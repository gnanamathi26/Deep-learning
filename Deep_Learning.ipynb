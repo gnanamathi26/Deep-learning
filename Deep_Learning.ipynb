{
  "nbformat": 4,
  "nbformat_minor": 0,
  "metadata": {
    "colab": {
      "name": "Deep Learning.ipynb",
      "provenance": [],
      "authorship_tag": "ABX9TyMRhZJcmSLXb1Gryt+FPwpc",
      "include_colab_link": true
    },
    "kernelspec": {
      "name": "python3",
      "display_name": "Python 3"
    },
    "language_info": {
      "name": "python"
    }
  },
  "cells": [
    {
      "cell_type": "markdown",
      "metadata": {
        "id": "view-in-github",
        "colab_type": "text"
      },
      "source": [
        "<a href=\"https://colab.research.google.com/github/gnanamathi26/Deep-learning/blob/main/Deep_Learning.ipynb\" target=\"_parent\"><img src=\"https://colab.research.google.com/assets/colab-badge.svg\" alt=\"Open In Colab\"/></a>"
      ]
    },
    {
      "cell_type": "code",
      "execution_count": null,
      "metadata": {
        "id": "FxGr6swkl8Y1"
      },
      "outputs": [],
      "source": [
        "import numpy as np\n",
        "import pandas as pd\n",
        "import os\n",
        "import matplotlib.pyplot as plt\n",
        "import seaborn as sns\n",
        "from PIL import Image\n",
        "import keras\n",
        "from keras.models import Sequential\n",
        "from keras.layers import Dense\n",
        "from keras.layers import Conv2D,MaxPooling2D,Flatten\n",
        "from keras.layers import Dropout\n",
        "import cv2\n",
        "from keras.layers import Dropout,ZeroPadding2D\n",
        "from sklearn.metrics import f1_score\n",
        "from keras.preprocessing.image import ImageDataGenerator, load_img\n"
      ]
    },
    {
      "cell_type": "code",
      "source": [
        "Normal=os.listdir('/content/drive/MyDrive/tuberdataset/Normal')\n",
        "Tuber=os.listdir('/content/drive/MyDrive/tuberdataset/Tuberculosis')"
      ],
      "metadata": {
        "id": "ObA4XNw3l-jV"
      },
      "execution_count": null,
      "outputs": []
    },
    {
      "cell_type": "code",
      "source": [
        "data= np.concatenate([Normal,Tuber])"
      ],
      "metadata": {
        "id": "vkRceQUKmA7C"
      },
      "execution_count": null,
      "outputs": []
    },
    {
      "cell_type": "code",
      "source": [
        "data"
      ],
      "metadata": {
        "id": "b--bVvPGmA3L"
      },
      "execution_count": null,
      "outputs": []
    },
    {
      "cell_type": "code",
      "source": [
        "target_x=np.full(len(Normal),1)"
      ],
      "metadata": {
        "id": "M4bLr5iEmA1j"
      },
      "execution_count": null,
      "outputs": []
    },
    {
      "cell_type": "code",
      "source": [
        "target_x1=np.full(len(Tuber),0)"
      ],
      "metadata": {
        "id": "kasBKFXDmAz4"
      },
      "execution_count": null,
      "outputs": []
    },
    {
      "cell_type": "code",
      "source": [
        "data_target=np.concatenate([target_x,target_x1])"
      ],
      "metadata": {
        "id": "ufiB-VZamAyK"
      },
      "execution_count": null,
      "outputs": []
    },
    {
      "cell_type": "code",
      "source": [
        "X_data = []"
      ],
      "metadata": {
        "id": "2qnvzO4EmAv0"
      },
      "execution_count": null,
      "outputs": []
    },
    {
      "cell_type": "code",
      "source": [
        "for file in Normal:\n",
        " img = cv2.imread('/content/drive/MyDrive/tuberdataset/Normal/' + file)\n",
        " mri = cv2.resize(img, (255,255)) #convert all img to 256px\n",
        " b, g , r = cv2.split(mri) #convert B G R format to R G B format \n",
        " img = cv2.merge([r, g, b])\n",
        " X_data.append(img) #add to li"
      ],
      "metadata": {
        "id": "-78iFbh4mAs2"
      },
      "execution_count": null,
      "outputs": []
    },
    {
      "cell_type": "code",
      "source": [
        "for file in Tuber:\n",
        " img = cv2.imread('/content/drive/MyDrive/tuberdataset/Tuberculosis/' + file)\n",
        " mri = cv2.resize(img, (255,255)) #convert all img to 256px\n",
        " b, g , r = cv2.split(mri) #convert B G R format to R G B format \n",
        " img = cv2.merge([r, g, b])\n",
        " X_data.append(img) #add to li"
      ],
      "metadata": {
        "id": "mBQGoRI2mRou"
      },
      "execution_count": null,
      "outputs": []
    },
    {
      "cell_type": "code",
      "source": [
        "X=np.squeeze(X_data)"
      ],
      "metadata": {
        "id": "fx-VtjYHmRgj"
      },
      "execution_count": null,
      "outputs": []
    },
    {
      "cell_type": "code",
      "source": [
        "X=X.astype('float32')\n",
        "X/=255\n"
      ],
      "metadata": {
        "id": "9y5IsD-LmReU"
      },
      "execution_count": null,
      "outputs": []
    },
    {
      "cell_type": "code",
      "source": [
        "from sklearn.model_selection import train_test_split\n",
        "X_train,X_test,y_train,y_test=train_test_split(X,data_target,test_size=0.1,random_state=3)\n"
      ],
      "metadata": {
        "id": "jdJ-gi3WmRaM"
      },
      "execution_count": null,
      "outputs": []
    },
    {
      "cell_type": "code",
      "source": [
        "X_train2,X_val,y_train2,y_val=train_test_split(X_train,y_train,test_size=0.1,random_state=3)"
      ],
      "metadata": {
        "id": "oh8IKDPEmRY4"
      },
      "execution_count": null,
      "outputs": []
    },
    {
      "cell_type": "code",
      "source": [
        "print(X_train2.shape)\n",
        "print(X_val.shape)\n",
        "print(X_test.shape)\n"
      ],
      "metadata": {
        "id": "E880nQ39m2rs"
      },
      "execution_count": null,
      "outputs": []
    },
    {
      "cell_type": "code",
      "source": [
        "from tensorflow.keras.applications.vgg16 import VGG16\n",
        "from keras.models import Model\n",
        "import keras\n",
        "restnet = VGG16(include_top=False, weights='imagenet', input_shape=(255,255,3))\n",
        "output = restnet.layers[-1].output\n",
        "output = keras.layers.Flatten()(output)\n",
        "vgg16 = Model(restnet.input, outputs=output)\n",
        "for layer in restnet.layers:\n",
        "  layer.trainable = False\n",
        "vgg16.summary()"
      ],
      "metadata": {
        "id": "qzsVhsPmm2ps"
      },
      "execution_count": null,
      "outputs": []
    },
    {
      "cell_type": "code",
      "source": [
        "from keras.layers import Conv2D, MaxPooling2D, Flatten, Dense, Dropout, InputLayer\n",
        "from keras.models import Sequential\n",
        "from tensorflow.keras import optimizers\n",
        "model = Sequential()\n",
        "model.add(vgg16)\n",
        "model.add(Flatten())\n",
        "model.add(Dense(1, activation='sigmoid'))\n",
        "model.compile(loss='binary_crossentropy',optimizer=optimizers.RMSprop(lr=0.0001),metrics=['accuracy'])\n",
        "model.summary()\n"
      ],
      "metadata": {
        "id": "R2pGHBJsm2mh"
      },
      "execution_count": null,
      "outputs": []
    },
    {
      "cell_type": "code",
      "source": [
        "vgghist = model.fit(X_train2,y_train2, validation_data = (X_val,y_val), epochs=10)\n"
      ],
      "metadata": {
        "id": "WvBrBTDpm2jF"
      },
      "execution_count": null,
      "outputs": []
    },
    {
      "cell_type": "code",
      "source": [
        "from tensorflow.keras.applications.resnet50 import ResNet50\n",
        "from keras.models import Model\n",
        "import keras\n",
        "restnet = ResNet50(include_top=False, weights='imagenet', input_shape=(255,255,3))\n",
        "output = restnet.layers[-1].output\n",
        "output = keras.layers.Flatten()(output)\n",
        "resnet50 = Model(restnet.input, outputs=output)\n",
        "for layer in restnet.layers:\n",
        "  layer.trainable = False\n",
        "resnet50.summary()"
      ],
      "metadata": {
        "id": "dK7sLmnMm2hP"
      },
      "execution_count": null,
      "outputs": []
    },
    {
      "cell_type": "code",
      "source": [
        "from keras.layers import Conv2D, MaxPooling2D, Flatten, Dense, Dropout, InputLayer\n",
        "from keras.models import Sequential\n",
        "from tensorflow.keras import optimizers\n",
        "model = Sequential()\n",
        "model.add(resnet50)\n",
        "model.add(Flatten())\n",
        "model.add(Dense(1, activation='sigmoid'))\n",
        "model.compile(loss='binary_crossentropy',optimizer=optimizers.RMSprop(lr=0.0001),metrics=['accuracy'])\n",
        "model.summary()\n"
      ],
      "metadata": {
        "id": "0Yw_jvc7m2eL"
      },
      "execution_count": null,
      "outputs": []
    },
    {
      "cell_type": "code",
      "source": [
        "resnet_his = model.fit(X_train2,y_train2, validation_data = (X_val,y_val), epochs=10)"
      ],
      "metadata": {
        "id": "gukqdCF5m2b7"
      },
      "execution_count": null,
      "outputs": []
    },
    {
      "cell_type": "code",
      "source": [
        ""
      ],
      "metadata": {
        "id": "Zf2s0Tdzm2ZJ"
      },
      "execution_count": null,
      "outputs": []
    },
    {
      "cell_type": "code",
      "source": [
        ""
      ],
      "metadata": {
        "id": "_lRecJxWm2XN"
      },
      "execution_count": null,
      "outputs": []
    },
    {
      "cell_type": "code",
      "source": [
        ""
      ],
      "metadata": {
        "id": "RQynnVoNm2UZ"
      },
      "execution_count": null,
      "outputs": []
    },
    {
      "cell_type": "code",
      "source": [
        ""
      ],
      "metadata": {
        "id": "h-5zhyYWm2Sn"
      },
      "execution_count": null,
      "outputs": []
    }
  ]
}